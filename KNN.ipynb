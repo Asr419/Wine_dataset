{
 "nbformat": 4,
 "nbformat_minor": 2,
 "metadata": {
  "language_info": {
   "name": "python",
   "codemirror_mode": {
    "name": "ipython",
    "version": 3
   },
   "version": "3.7.3-final"
  },
  "orig_nbformat": 2,
  "file_extension": ".py",
  "mimetype": "text/x-python",
  "name": "python",
  "npconvert_exporter": "python",
  "pygments_lexer": "ipython3",
  "version": 3,
  "kernelspec": {
   "name": "python37364bitb881807a2701442397e35e3fb8dd8319",
   "display_name": "Python 3.7.3 64-bit"
  }
 },
 "cells": [
  {
   "cell_type": "code",
   "execution_count": 38,
   "metadata": {},
   "outputs": [],
   "source": [
    "import numpy\n",
    "import pandas as pd\n",
    "from sklearn.preprocessing import StandardScaler, LabelEncoder\n",
    "\n",
    "df = pd.read_csv('winequality-red.csv')"
   ]
  },
  {
   "cell_type": "code",
   "execution_count": 39,
   "metadata": {},
   "outputs": [
    {
     "data": {
      "text/plain": "StandardScaler(copy=True, with_mean=True, with_std=True)"
     },
     "execution_count": 39,
     "metadata": {},
     "output_type": "execute_result"
    }
   ],
   "source": [
    "\n",
    "X = df.loc[:,'fixed acidity':'alcohol']\n",
    "\n",
    "scaler = StandardScaler().fit(X)\n",
    "scaler"
   ]
  },
  {
   "cell_type": "code",
   "execution_count": 40,
   "metadata": {},
   "outputs": [],
   "source": [
    "bins = (2, 5.5, 8)\n",
    "group_names = ['bad', 'good']\n",
    "df['quality'] = pd.cut(df['quality'], bins = bins, labels = group_names)\n",
    "label_quality = LabelEncoder()\n",
    "df['quality'] = label_quality.fit_transform(df['quality'])\n",
    "y = df['quality']"
   ]
  },
  {
   "cell_type": "code",
   "execution_count": 41,
   "metadata": {},
   "outputs": [],
   "source": [
    "from sklearn.decomposition import PCA\n",
    "X=scaler.transform(X)\n",
    "pca = PCA() # creates an instance of PCA class\n",
    "results = pca.fit(X) # applies PCA on predictor variables\n",
    "Z = results.transform(X) # create a new array of latent variables"
   ]
  },
  {
   "cell_type": "code",
   "execution_count": 42,
   "metadata": {},
   "outputs": [
    {
     "data": {
      "text/html": "<div>\n<style scoped>\n    .dataframe tbody tr th:only-of-type {\n        vertical-align: middle;\n    }\n\n    .dataframe tbody tr th {\n        vertical-align: top;\n    }\n\n    .dataframe thead th {\n        text-align: right;\n    }\n</style>\n<table border=\"1\" class=\"dataframe\">\n  <thead>\n    <tr style=\"text-align: right;\">\n      <th></th>\n      <th>0</th>\n      <th>1</th>\n      <th>2</th>\n      <th>3</th>\n      <th>4</th>\n      <th>5</th>\n      <th>6</th>\n      <th>7</th>\n      <th>8</th>\n      <th>9</th>\n      <th>10</th>\n    </tr>\n  </thead>\n  <tbody>\n    <tr>\n      <th>0</th>\n      <td>0.489314</td>\n      <td>-0.238584</td>\n      <td>0.463632</td>\n      <td>0.146107</td>\n      <td>0.212247</td>\n      <td>-0.036158</td>\n      <td>0.023575</td>\n      <td>0.395353</td>\n      <td>-0.438520</td>\n      <td>0.242921</td>\n      <td>-0.113232</td>\n    </tr>\n    <tr>\n      <th>1</th>\n      <td>-0.110503</td>\n      <td>0.274930</td>\n      <td>-0.151791</td>\n      <td>0.272080</td>\n      <td>0.148052</td>\n      <td>0.513567</td>\n      <td>0.569487</td>\n      <td>0.233575</td>\n      <td>0.006711</td>\n      <td>-0.037554</td>\n      <td>-0.386181</td>\n    </tr>\n    <tr>\n      <th>2</th>\n      <td>-0.123302</td>\n      <td>-0.449963</td>\n      <td>0.238247</td>\n      <td>0.101283</td>\n      <td>-0.092614</td>\n      <td>0.428793</td>\n      <td>0.322415</td>\n      <td>-0.338871</td>\n      <td>0.057697</td>\n      <td>0.279786</td>\n      <td>0.471673</td>\n    </tr>\n    <tr>\n      <th>3</th>\n      <td>-0.229617</td>\n      <td>0.078960</td>\n      <td>-0.079418</td>\n      <td>-0.372793</td>\n      <td>0.666195</td>\n      <td>-0.043538</td>\n      <td>-0.034577</td>\n      <td>-0.174500</td>\n      <td>-0.003788</td>\n      <td>0.550872</td>\n      <td>-0.122181</td>\n    </tr>\n    <tr>\n      <th>4</th>\n      <td>-0.082614</td>\n      <td>0.218735</td>\n      <td>-0.058573</td>\n      <td>0.732144</td>\n      <td>0.246501</td>\n      <td>-0.159152</td>\n      <td>-0.222465</td>\n      <td>0.157077</td>\n      <td>0.267530</td>\n      <td>0.225962</td>\n      <td>0.350681</td>\n    </tr>\n    <tr>\n      <th>5</th>\n      <td>0.101479</td>\n      <td>0.411449</td>\n      <td>0.069593</td>\n      <td>0.049156</td>\n      <td>0.304339</td>\n      <td>-0.014000</td>\n      <td>0.136308</td>\n      <td>-0.391152</td>\n      <td>-0.522116</td>\n      <td>-0.381263</td>\n      <td>0.361645</td>\n    </tr>\n    <tr>\n      <th>6</th>\n      <td>-0.350227</td>\n      <td>-0.533735</td>\n      <td>0.105497</td>\n      <td>0.290663</td>\n      <td>0.370413</td>\n      <td>-0.116596</td>\n      <td>-0.093662</td>\n      <td>-0.170481</td>\n      <td>-0.025138</td>\n      <td>-0.447469</td>\n      <td>-0.327651</td>\n    </tr>\n    <tr>\n      <th>7</th>\n      <td>-0.177595</td>\n      <td>-0.078775</td>\n      <td>-0.377516</td>\n      <td>0.299845</td>\n      <td>-0.357009</td>\n      <td>-0.204781</td>\n      <td>0.019036</td>\n      <td>-0.239223</td>\n      <td>-0.561391</td>\n      <td>0.374604</td>\n      <td>-0.217626</td>\n    </tr>\n    <tr>\n      <th>8</th>\n      <td>-0.194021</td>\n      <td>0.129110</td>\n      <td>0.381450</td>\n      <td>-0.007523</td>\n      <td>-0.111339</td>\n      <td>-0.635405</td>\n      <td>0.592116</td>\n      <td>-0.020719</td>\n      <td>0.167746</td>\n      <td>0.058367</td>\n      <td>-0.037603</td>\n    </tr>\n    <tr>\n      <th>9</th>\n      <td>-0.249523</td>\n      <td>0.365925</td>\n      <td>0.621677</td>\n      <td>0.092872</td>\n      <td>-0.217671</td>\n      <td>0.248483</td>\n      <td>-0.370750</td>\n      <td>-0.239990</td>\n      <td>-0.010970</td>\n      <td>0.112320</td>\n      <td>-0.303015</td>\n    </tr>\n    <tr>\n      <th>10</th>\n      <td>0.639691</td>\n      <td>0.002389</td>\n      <td>-0.070910</td>\n      <td>0.184030</td>\n      <td>0.053065</td>\n      <td>-0.051421</td>\n      <td>0.068702</td>\n      <td>-0.567332</td>\n      <td>0.340711</td>\n      <td>0.069555</td>\n      <td>-0.314526</td>\n    </tr>\n  </tbody>\n</table>\n</div>",
      "text/plain": "          0         1         2         3         4         5         6   \\\n0   0.489314 -0.238584  0.463632  0.146107  0.212247 -0.036158  0.023575   \n1  -0.110503  0.274930 -0.151791  0.272080  0.148052  0.513567  0.569487   \n2  -0.123302 -0.449963  0.238247  0.101283 -0.092614  0.428793  0.322415   \n3  -0.229617  0.078960 -0.079418 -0.372793  0.666195 -0.043538 -0.034577   \n4  -0.082614  0.218735 -0.058573  0.732144  0.246501 -0.159152 -0.222465   \n5   0.101479  0.411449  0.069593  0.049156  0.304339 -0.014000  0.136308   \n6  -0.350227 -0.533735  0.105497  0.290663  0.370413 -0.116596 -0.093662   \n7  -0.177595 -0.078775 -0.377516  0.299845 -0.357009 -0.204781  0.019036   \n8  -0.194021  0.129110  0.381450 -0.007523 -0.111339 -0.635405  0.592116   \n9  -0.249523  0.365925  0.621677  0.092872 -0.217671  0.248483 -0.370750   \n10  0.639691  0.002389 -0.070910  0.184030  0.053065 -0.051421  0.068702   \n\n          7         8         9         10  \n0   0.395353 -0.438520  0.242921 -0.113232  \n1   0.233575  0.006711 -0.037554 -0.386181  \n2  -0.338871  0.057697  0.279786  0.471673  \n3  -0.174500 -0.003788  0.550872 -0.122181  \n4   0.157077  0.267530  0.225962  0.350681  \n5  -0.391152 -0.522116 -0.381263  0.361645  \n6  -0.170481 -0.025138 -0.447469 -0.327651  \n7  -0.239223 -0.561391  0.374604 -0.217626  \n8  -0.020719  0.167746  0.058367 -0.037603  \n9  -0.239990 -0.010970  0.112320 -0.303015  \n10 -0.567332  0.340711  0.069555 -0.314526  "
     },
     "execution_count": 42,
     "metadata": {},
     "output_type": "execute_result"
    }
   ],
   "source": [
    "pd.DataFrame(results.components_)\n"
   ]
  },
  {
   "cell_type": "code",
   "execution_count": 43,
   "metadata": {},
   "outputs": [
    {
     "data": {
      "text/html": "<div>\n<style scoped>\n    .dataframe tbody tr th:only-of-type {\n        vertical-align: middle;\n    }\n\n    .dataframe tbody tr th {\n        vertical-align: top;\n    }\n\n    .dataframe thead th {\n        text-align: right;\n    }\n</style>\n<table border=\"1\" class=\"dataframe\">\n  <thead>\n    <tr style=\"text-align: right;\">\n      <th></th>\n      <th>Acidity</th>\n      <th>Sulphides</th>\n      <th>More alcohol</th>\n      <th>Chlorides</th>\n      <th>More residual sugar</th>\n      <th>Less pH</th>\n    </tr>\n  </thead>\n  <tbody>\n    <tr>\n      <th>0</th>\n      <td>-1.619530</td>\n      <td>0.450950</td>\n      <td>-1.774454</td>\n      <td>0.043740</td>\n      <td>0.067014</td>\n      <td>-0.913921</td>\n    </tr>\n    <tr>\n      <th>1</th>\n      <td>-0.799170</td>\n      <td>1.856553</td>\n      <td>-0.911690</td>\n      <td>0.548066</td>\n      <td>-0.018392</td>\n      <td>0.929714</td>\n    </tr>\n    <tr>\n      <th>2</th>\n      <td>-0.748479</td>\n      <td>0.882039</td>\n      <td>-1.171394</td>\n      <td>0.411021</td>\n      <td>-0.043531</td>\n      <td>0.401473</td>\n    </tr>\n    <tr>\n      <th>3</th>\n      <td>2.357673</td>\n      <td>-0.269976</td>\n      <td>0.243489</td>\n      <td>-0.928450</td>\n      <td>-1.499149</td>\n      <td>-0.131017</td>\n    </tr>\n    <tr>\n      <th>4</th>\n      <td>-1.619530</td>\n      <td>0.450950</td>\n      <td>-1.774454</td>\n      <td>0.043740</td>\n      <td>0.067014</td>\n      <td>-0.913921</td>\n    </tr>\n    <tr>\n      <th>5</th>\n      <td>-1.583707</td>\n      <td>0.569195</td>\n      <td>-1.538286</td>\n      <td>0.023750</td>\n      <td>-0.110076</td>\n      <td>-0.993626</td>\n    </tr>\n    <tr>\n      <th>6</th>\n      <td>-1.101464</td>\n      <td>0.608015</td>\n      <td>-1.075915</td>\n      <td>-0.343959</td>\n      <td>-1.133382</td>\n      <td>0.175000</td>\n    </tr>\n    <tr>\n      <th>7</th>\n      <td>-2.248708</td>\n      <td>-0.416835</td>\n      <td>-0.986837</td>\n      <td>-0.001203</td>\n      <td>-0.780435</td>\n      <td>0.286057</td>\n    </tr>\n    <tr>\n      <th>8</th>\n      <td>-1.086887</td>\n      <td>-0.308569</td>\n      <td>-1.518150</td>\n      <td>0.003315</td>\n      <td>-0.226727</td>\n      <td>-0.512634</td>\n    </tr>\n    <tr>\n      <th>9</th>\n      <td>0.654790</td>\n      <td>1.665207</td>\n      <td>1.209476</td>\n      <td>-0.824635</td>\n      <td>1.718501</td>\n      <td>-0.476497</td>\n    </tr>\n  </tbody>\n</table>\n</div>",
      "text/plain": "    Acidity  Sulphides  More alcohol  Chlorides  More residual sugar   Less pH\n0 -1.619530   0.450950     -1.774454   0.043740             0.067014 -0.913921\n1 -0.799170   1.856553     -0.911690   0.548066            -0.018392  0.929714\n2 -0.748479   0.882039     -1.171394   0.411021            -0.043531  0.401473\n3  2.357673  -0.269976      0.243489  -0.928450            -1.499149 -0.131017\n4 -1.619530   0.450950     -1.774454   0.043740             0.067014 -0.913921\n5 -1.583707   0.569195     -1.538286   0.023750            -0.110076 -0.993626\n6 -1.101464   0.608015     -1.075915  -0.343959            -1.133382  0.175000\n7 -2.248708  -0.416835     -0.986837  -0.001203            -0.780435  0.286057\n8 -1.086887  -0.308569     -1.518150   0.003315            -0.226727 -0.512634\n9  0.654790   1.665207      1.209476  -0.824635             1.718501 -0.476497"
     },
     "execution_count": 43,
     "metadata": {},
     "output_type": "execute_result"
    }
   ],
   "source": [
    "pd.DataFrame(Z[:,:6], columns=list(\n",
    "[u'Acidity', u'Sulphides', u'More alcohol', u'Chlorides', u'More residual sugar', u'Less pH'])).head(10)"
   ]
  },
  {
   "cell_type": "code",
   "execution_count": 44,
   "metadata": {},
   "outputs": [],
   "source": [
    "from sklearn.model_selection import train_test_split\n",
    "X_train, X_test, y_train, y_test = train_test_split(X, y, test_size = 0.2, random_state = 42)"
   ]
  },
  {
   "cell_type": "code",
   "execution_count": 45,
   "metadata": {},
   "outputs": [
    {
     "name": "stdout",
     "output_type": "stream",
     "text": "Confusion matrix:\n[[ 87  38]\n [ 54 141]]\n\nAccuracy:\n0.7125\n              precision    recall  f1-score   support\n\n           0       0.62      0.70      0.65       125\n           1       0.79      0.72      0.75       195\n\n    accuracy                           0.71       320\n   macro avg       0.70      0.71      0.70       320\nweighted avg       0.72      0.71      0.71       320\n\n"
    }
   ],
   "source": [
    "from sklearn.neighbors import KNeighborsClassifier\n",
    "from sklearn.metrics import confusion_matrix, accuracy_score, classification_report\n",
    "\n",
    "neigh = KNeighborsClassifier(n_neighbors=5)\n",
    "neigh.fit(X_train,y_train)\n",
    "pred = neigh.predict(X_test)\n",
    "print('Confusion matrix:')\n",
    "print(confusion_matrix(pred,y_test))\n",
    "print('\\nAccuracy:')\n",
    "print(accuracy_score(pred,y_test))\n",
    "print(classification_report(pred,y_test))"
   ]
  },
  {
   "cell_type": "code",
   "execution_count": 46,
   "metadata": {},
   "outputs": [],
   "source": [
    "X_train1, X_test1, y_train1, y_test1 = train_test_split(Z[:,:6], y, test_size = 0.2, random_state = 42)"
   ]
  },
  {
   "cell_type": "code",
   "execution_count": 47,
   "metadata": {},
   "outputs": [
    {
     "name": "stdout",
     "output_type": "stream",
     "text": "Confusion matrix:\n[[ 90  42]\n [ 51 137]]\n\nAccuracy:\n0.709375\n              precision    recall  f1-score   support\n\n           0       0.64      0.68      0.66       132\n           1       0.77      0.73      0.75       188\n\n    accuracy                           0.71       320\n   macro avg       0.70      0.71      0.70       320\nweighted avg       0.71      0.71      0.71       320\n\n"
    }
   ],
   "source": [
    "#In nearest neighbour the parameter which needs to be decided is number of neighbours. In this we see keeping this at 5 yields the best accuracy and also we if we consider the Principal Components then also we achieve almost the same accuracy.\n",
    "neigh = KNeighborsClassifier(n_neighbors=5)\n",
    "neigh.fit(X_train1,y_train1)\n",
    "pred = neigh.predict(X_test1)\n",
    "print('Confusion matrix:')\n",
    "print(confusion_matrix(pred,y_test1))\n",
    "print('\\nAccuracy:')\n",
    "print(accuracy_score(pred,y_test1))\n",
    "print(classification_report(pred,y_test1))"
   ]
  },
  {
   "cell_type": "code",
   "execution_count": null,
   "metadata": {},
   "outputs": [],
   "source": [
    "#As the support of the class 1 in test set is more we also see it gives better f1-score and precision recall indicating that Tuype-1 wrror is less for class 1.\n",
    "#The nearest neighbour doesnt work that well for this dataset as the accuracy is around .70."
   ]
  }
 ]
}